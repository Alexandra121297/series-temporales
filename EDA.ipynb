{
 "cells": [
  {
   "cell_type": "markdown",
   "id": "c93272bf-98a4-4c85-a63e-e075b31bd47e",
   "metadata": {},
   "source": [
    "## Análisis exploratorio de los datos\n",
    "___"
   ]
  },
  {
   "cell_type": "markdown",
   "id": "32bae273-2fab-47b7-90b4-fe827b20699f",
   "metadata": {},
   "source": [
    "### Librerías"
   ]
  },
  {
   "cell_type": "code",
   "execution_count": 2,
   "id": "e1d73d75-c090-42be-8615-b8c0ca8580db",
   "metadata": {},
   "outputs": [],
   "source": [
    "import pandas as pd\n",
    "import numpy as np\n",
    "import matplotlib\n",
    "from matplotlib import pyplot as plt\n",
    "import seaborn as sb\n",
    "import pyexcel as ex"
   ]
  },
  {
   "cell_type": "markdown",
   "id": "d4e562e4-339a-4065-aab1-c45bf655157d",
   "metadata": {},
   "source": [
    "### Términos de negocios"
   ]
  },
  {
   "attachments": {},
   "cell_type": "markdown",
   "id": "add9e5c9-e0df-4280-9508-5a9db20dc664",
   "metadata": {},
   "source": [
    "**MQL:**  Número de clientes cargados a la fuerza de ventas con el target solicitado por Segmento. \n",
    "\n",
    "**MQL No Iniciados:** Aquí se encuentran las oportunidades que no generan oportunidad de venta. Son oportunidades no válidas, por ejemplo: ilocalizables, jubilados, duplicados.\n",
    "\n",
    "**SQL:** Número de oportunidades que finalmente tratará la fuerza de ventas, una vez excluidos los MQL No Iniciados. \n",
    "\n",
    "**SQL Iniciados:** Cobertura de ventas. Oportunidades ya iniciadas por la fuerza de ventas. Comprende las oportunidades en gestión, ganadas y perdidas.\n",
    "\n",
    "**Value SQL Iniciados:** Importe de todas las oportunidades que se  han comenzado a tratar. Comprende las oportunidades en gestión, ganadas  y perdidas.\n",
    "\n",
    "**Closed (Won + Lost):** Oportunidades cerradas, comprendiendo las ganadas y perdidas.\n",
    "\n",
    "**Value Closed (Won + Lost):** Importe de oportunidades cerradas (ganadas y perdidas).\n",
    "\n",
    "**Won Deals:** Oportunidades ganadas.\n",
    "\n",
    "**Value Won Deals:** Importe capturado por las oportunidades ganadas.\n",
    "\n",
    "**Win Rate:** Win rate sobre oportunidades cerradas (ganadas + perdidas).\n",
    "\n",
    "*Fórmula: Leads ganados sobre el total de leads cerrados (ganados + perdidos).*\n",
    "\n",
    "**Leads Totales:** Número total de leads que llegan a la compañía (Eloqua, CAC, Ecommerce, e-magister, eventos...).\n",
    "\n",
    "**Ticket Medio:** Importe medio conseguido por lead.\n",
    "\n",
    "*Fórmula: Value Won Deals/Won Deals*"
   ]
  },
  {
   "cell_type": "code",
   "execution_count": 6,
   "id": "fda4a302-3b08-40a0-90b3-f86eff78d982",
   "metadata": {},
   "outputs": [],
   "source": [
    "df = pd.read_excel(\"Campañas y Leads 02.01.2024.xlsx\", engine=\"openpyxl\", sheet_name= \"Hoja1\")"
   ]
  },
  {
   "cell_type": "code",
   "execution_count": 7,
   "id": "5951db35-f805-4fc5-aed4-217801615964",
   "metadata": {},
   "outputs": [
    {
     "name": "stdout",
     "output_type": "stream",
     "text": [
      "<class 'pandas.core.frame.DataFrame'>\n",
      "RangeIndex: 1848 entries, 0 to 1847\n",
      "Data columns (total 69 columns):\n",
      " #   Column                         Non-Null Count  Dtype  \n",
      "---  ------                         --------------  -----  \n",
      " 0   Campaña_Nombre                 1848 non-null   object \n",
      " 1   Campaña                        1848 non-null   object \n",
      " 2   Denominación de una operación  285 non-null    object \n",
      " 3   Número de operación            285 non-null    float64\n",
      " 4   Categoria                      1848 non-null   object \n",
      " 5   Tipo de Venta                  1848 non-null   object \n",
      " 6   Producto Campaña               1828 non-null   object \n",
      " 7   Fecha Creacion                 285 non-null    object \n",
      " 8   Fecha Fin                      285 non-null    object \n",
      " 9   Mes                            1848 non-null   int64  \n",
      " 10  Año                            1848 non-null   int64  \n",
      " 11  Nombre del agente              282 non-null    object \n",
      " 12  Empleados                      285 non-null    object \n",
      " 13  OV                             282 non-null    object \n",
      " 14  Subcanal                       1651 non-null   object \n",
      " 15  Canal                          1632 non-null   object \n",
      " 16  Partners                       1823 non-null   object \n",
      " 17  Cliente                        1685 non-null   float64\n",
      " 18  Nombre cliente                 1848 non-null   object \n",
      " 19  Nombre Clte.Cabecera           463 non-null    object \n",
      " 20  Producto Ofertado              285 non-null    object \n",
      " 21  Importe Total                  1848 non-null   int64  \n",
      " 22  Fase                           285 non-null    object \n",
      " 23  Subfase                        285 non-null    object \n",
      " 24  Mes Cierre                     285 non-null    float64\n",
      " 25  Año Cierre                     285 non-null    float64\n",
      " 26  Tipo de Registros              1828 non-null   object \n",
      " 27  Canal Petición Campaña         1734 non-null   object \n",
      " 28  Opp.: Tipo                     285 non-null    object \n",
      " 29  Origen                         1848 non-null   object \n",
      " 30  Medio                          1848 non-null   object \n",
      " 31  Gran Cliente                   285 non-null    object \n",
      " 32  Estado                         285 non-null    object \n",
      " 33  Motivo agrupado 1              285 non-null    object \n",
      " 34  Motivo agrupado 2              285 non-null    object \n",
      " 35  Motivo agrupado 3              285 non-null    object \n",
      " 36  Semana Entrada                 285 non-null    object \n",
      " 37  Semana Cierre                  207 non-null    object \n",
      " 38  Semana inicio Pipe             207 non-null    object \n",
      " 39  Ciclo Vida                     285 non-null    object \n",
      " 40  Tipo de Cliente                285 non-null    object \n",
      " 41  Fecha Inicio gestion           285 non-null    object \n",
      " 42  Fecha fase 3                   285 non-null    object \n",
      " 43  Antigüedad                     285 non-null    float64\n",
      " 44  Antigüedad gestión             207 non-null    float64\n",
      " 45  Antigüedad Fase 3              17 non-null     float64\n",
      " 46  Antigüedad fecha Pipe          45 non-null     float64\n",
      " 47  Año inicio de gestión          207 non-null    float64\n",
      " 48  Mes inicio gestión             207 non-null    float64\n",
      " 49  Dia inicio gestión             207 non-null    float64\n",
      " 50  Mes Pipe                       45 non-null     float64\n",
      " 51  Año Pipe                       45 non-null     float64\n",
      " 52  Leads Totales                  1848 non-null   int64  \n",
      " 53  Pendientes                     1848 non-null   int64  \n",
      " 54  En Gestion                     1848 non-null   int64  \n",
      " 55  En Gestion con Riesgo          1848 non-null   int64  \n",
      " 56  Rechazadas                     1848 non-null   int64  \n",
      " 57  Duplicadas                     1848 non-null   int64  \n",
      " 58  Otro Segmento                  1848 non-null   int64  \n",
      " 59  Perdidas                       1848 non-null   int64  \n",
      " 60  MQL                            1848 non-null   int64  \n",
      " 61  SQL                            1848 non-null   int64  \n",
      " 62  SQL Iniciados                  1848 non-null   int64  \n",
      " 63  Won Deals                      1848 non-null   int64  \n",
      " 64  SQL Cerrados                   1848 non-null   int64  \n",
      " 65  Value Won Deal                 1848 non-null   int64  \n",
      " 66  Importe Perdido                1848 non-null   int64  \n",
      " 67  Pipeline                       1848 non-null   int64  \n",
      " 68  Nuevo Cliente                  285 non-null    object \n",
      "dtypes: float64(13), int64(19), object(37)\n",
      "memory usage: 996.3+ KB\n"
     ]
    }
   ],
   "source": [
    "df.info()"
   ]
  },
  {
   "cell_type": "code",
   "execution_count": null,
   "id": "ad6f8d59-8c11-434e-b729-286ac7108aa8",
   "metadata": {},
   "outputs": [],
   "source": []
  }
 ],
 "metadata": {
  "kernelspec": {
   "display_name": "Python 3 (ipykernel)",
   "language": "python",
   "name": "python3"
  },
  "language_info": {
   "codemirror_mode": {
    "name": "ipython",
    "version": 3
   },
   "file_extension": ".py",
   "mimetype": "text/x-python",
   "name": "python",
   "nbconvert_exporter": "python",
   "pygments_lexer": "ipython3",
   "version": "3.12.4"
  }
 },
 "nbformat": 4,
 "nbformat_minor": 5
}
